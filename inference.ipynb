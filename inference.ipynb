{
 "cells": [
  {
   "cell_type": "code",
   "execution_count": 11,
   "metadata": {},
   "outputs": [],
   "source": [
    "from inference_on_dataset import NEGATIVE_PROMPTS, get_pipe, load_ckpt\n",
    "from omegaconf import OmegaConf\n",
    "import json\n",
    "import numpy as np\n",
    "import torch"
   ]
  },
  {
   "cell_type": "code",
   "execution_count": null,
   "metadata": {},
   "outputs": [],
   "source": [
    "version = 'sdxl'\n",
    "config = 'configs/layout_sdxl.yaml'\n",
    "config = OmegaConf.load(config)\n",
    "pipe, _, unet = get_pipe(version, config)"
   ]
  },
  {
   "cell_type": "code",
   "execution_count": 6,
   "metadata": {},
   "outputs": [],
   "source": [
    "load_ckpt('rich_context_sdxl_e580.pt', pipe)"
   ]
  },
  {
   "cell_type": "code",
   "execution_count": 16,
   "metadata": {},
   "outputs": [],
   "source": [
    "height = width = 512\n",
    "GUIDANCE_SCALE = 5.0\n",
    "caption = '' # You can leave it blank or give it a global caption\n",
    "object_file = 'demos/100002558.json'\n",
    "with open(object_file, 'r') as f:\n",
    "    objects = json.load(f)\n",
    "    bboxes = np.array(objects['bboxes'])\n",
    "    labels = objects['labels']"
   ]
  },
  {
   "cell_type": "code",
   "execution_count": null,
   "metadata": {},
   "outputs": [],
   "source": [
    "with torch.no_grad(), torch.cuda.amp.autocast(dtype=torch.float16):\n",
    "    generated = pipe(\n",
    "        prompt=caption,\n",
    "        negative_prompt=NEGATIVE_PROMPTS,\n",
    "        height=height, width=width,\n",
    "        boxes=bboxes,\n",
    "        labels=labels,\n",
    "        scheduled_sampling_beta=1,\n",
    "        num_inference_steps=50,\n",
    "        guidance_scale=GUIDANCE_SCALE\n",
    "    )"
   ]
  },
  {
   "cell_type": "code",
   "execution_count": null,
   "metadata": {},
   "outputs": [],
   "source": [
    "generated[0][0]"
   ]
  }
 ],
 "metadata": {
  "kernelspec": {
   "display_name": "sdxl",
   "language": "python",
   "name": "python3"
  },
  "language_info": {
   "codemirror_mode": {
    "name": "ipython",
    "version": 3
   },
   "file_extension": ".py",
   "mimetype": "text/x-python",
   "name": "python",
   "nbconvert_exporter": "python",
   "pygments_lexer": "ipython3",
   "version": "3.10.12"
  }
 },
 "nbformat": 4,
 "nbformat_minor": 2
}
