{
 "cells": [
  {
   "cell_type": "code",
   "execution_count": null,
   "metadata": {},
   "outputs": [],
   "source": [
    "from pipelines.sdxl_pipeline import StableDiffusionXLRegionalAttnPipeline\n",
    "from regional_attention.diffusers_unet import UNet2DConditionModel\n",
    "from inference_on_dataset import NEGATIVE_PROMPTS\n",
    "import json\n",
    "import numpy as np\n",
    "import torch\n",
    "unet = UNet2DConditionModel.from_pretrained(\n",
    "    'cplusx/rich_context_l2i_sdxl', subfolder='unet'\n",
    ") # since we use a custom UNet model, if caling pipe.from_pretrained directly, the diffusers will raise error saying that the unet model is not found, so we create it first and pass it to the pipeline\n",
    "pipe = StableDiffusionXLRegionalAttnPipeline.from_pretrained(\n",
    "    \"cplusx/rich_context_l2i_sdxl\", unet=unet,\n",
    ").to('cuda')"
   ]
  },
  {
   "cell_type": "code",
   "execution_count": 8,
   "metadata": {},
   "outputs": [],
   "source": [
    "height = width = 512\n",
    "GUIDANCE_SCALE = 5.0\n",
    "caption = '' # You can leave it blank or give it a global caption if you have\n",
    "object_file = 'demos/100002558.json'\n",
    "with open(object_file, 'r') as f:\n",
    "    objects = json.load(f)\n",
    "    bboxes = np.array(objects['bboxes'])\n",
    "    labels = objects['labels']"
   ]
  },
  {
   "cell_type": "code",
   "execution_count": null,
   "metadata": {},
   "outputs": [],
   "source": [
    "with torch.no_grad(), torch.cuda.amp.autocast(dtype=torch.float16):\n",
    "    generated = pipe(\n",
    "        prompt=caption,\n",
    "        negative_prompt=NEGATIVE_PROMPTS,\n",
    "        height=height, width=width,\n",
    "        boxes=bboxes,\n",
    "        labels=labels,\n",
    "        scheduled_sampling_beta=1,\n",
    "        num_inference_steps=50,\n",
    "        guidance_scale=GUIDANCE_SCALE\n",
    "    )"
   ]
  },
  {
   "cell_type": "code",
   "execution_count": null,
   "metadata": {},
   "outputs": [],
   "source": [
    "generated[0][0]"
   ]
  }
 ],
 "metadata": {
  "kernelspec": {
   "display_name": "sdxl",
   "language": "python",
   "name": "python3"
  },
  "language_info": {
   "codemirror_mode": {
    "name": "ipython",
    "version": 3
   },
   "file_extension": ".py",
   "mimetype": "text/x-python",
   "name": "python",
   "nbconvert_exporter": "python",
   "pygments_lexer": "ipython3",
   "version": "3.10.12"
  }
 },
 "nbformat": 4,
 "nbformat_minor": 2
}
